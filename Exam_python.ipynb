{
  "nbformat": 4,
  "nbformat_minor": 0,
  "metadata": {
    "colab": {
      "name": "Exam python.ipynb",
      "provenance": [],
      "collapsed_sections": []
    },
    "kernelspec": {
      "name": "python3",
      "display_name": "Python 3"
    },
    "language_info": {
      "name": "python"
    }
  },
  "cells": [
    {
      "cell_type": "markdown",
      "source": [
        "Q 1 ) Convert given hours and mins in second "
      ],
      "metadata": {
        "id": "28SCbY1CpGwo"
      }
    },
    {
      "cell_type": "code",
      "source": [
        "hours=int(input(\"Enter hours: \"))\n",
        "minutes=int(input(\"Enter minutes: \"))\n",
        "sec=(hours*3600)+(minutes*60)\n",
        "print(hours,\"hours and\",minutes,\"minutes are total\",sec,\"seconds.\")\n"
      ],
      "metadata": {
        "colab": {
          "base_uri": "https://localhost:8080/"
        },
        "id": "VvwfjPBkpJW2",
        "outputId": "fd9c1760-c96e-4072-9998-f863cb579bae"
      },
      "execution_count": 23,
      "outputs": [
        {
          "output_type": "stream",
          "name": "stdout",
          "text": [
            "Enter hours: 4\n",
            "Enter minutes: 30\n",
            "4 hours and 30 minutes are total 16200 seconds.\n"
          ]
        }
      ]
    },
    {
      "cell_type": "markdown",
      "source": [
        "Q 5 ) create class"
      ],
      "metadata": {
        "id": "Em8_YmYLrNIo"
      }
    },
    {
      "cell_type": "code",
      "source": [
        "class Math:\n",
        "  def __init__(self,a,b):\n",
        "    self.a=a\n",
        "    self.b=b\n",
        "  def Add(self):\n",
        "    return self.a+self.b\n",
        "  def Sub(self):\n",
        "    return self.a-self.b  \n",
        "  def Mul(self):\n",
        "    return self.a*self.b\n",
        "  def Div(self):\n",
        "    return self.a/self.b  "
      ],
      "metadata": {
        "id": "d7LgtzOaslUf"
      },
      "execution_count": 27,
      "outputs": []
    },
    {
      "cell_type": "code",
      "source": [
        "x=Math(60,20)"
      ],
      "metadata": {
        "id": "NZ-mB-U3ukfj"
      },
      "execution_count": 28,
      "outputs": []
    },
    {
      "cell_type": "code",
      "source": [
        "print(x.Add())\n",
        "print(x.Sub())\n",
        "print(x.Mul())\n",
        "print(x.Div())\n",
        "\n"
      ],
      "metadata": {
        "colab": {
          "base_uri": "https://localhost:8080/"
        },
        "id": "Spf-IuQxupKr",
        "outputId": "b48dac10-2a4f-44e9-a926-aa66b79ff600"
      },
      "execution_count": 29,
      "outputs": [
        {
          "output_type": "stream",
          "name": "stdout",
          "text": [
            "80\n",
            "40\n",
            "1200\n",
            "3.0\n"
          ]
        }
      ]
    },
    {
      "cell_type": "markdown",
      "source": [
        "Q7 convert paise in rupees and paises"
      ],
      "metadata": {
        "id": "s7tuBEHGvroD"
      }
    },
    {
      "cell_type": "code",
      "source": [
        "p=int(input(\"enter paise: \"))\n",
        "a=0\n",
        "if p>100:\n",
        "  b= p%100\n",
        "  c= p//100\n",
        "  print(p,\"paise equals to\",c,\"rupees and\",b,\"paise\")\n",
        "else:\n",
        "  print(p,\"paise\")  "
      ],
      "metadata": {
        "colab": {
          "base_uri": "https://localhost:8080/"
        },
        "id": "V0ZlwhShvniy",
        "outputId": "b9129814-5f37-49db-d575-24652e394c33"
      },
      "execution_count": 30,
      "outputs": [
        {
          "output_type": "stream",
          "name": "stdout",
          "text": [
            "enter paise: 250\n",
            "250 paise equals to 2 rupees and 50 paise\n"
          ]
        }
      ]
    },
    {
      "cell_type": "markdown",
      "source": [
        "Q 10 create menu driven code for accept 2 numbers add \n",
        "sub\n",
        "mul\n",
        "div"
      ],
      "metadata": {
        "id": "TBT7oYYyxAmh"
      }
    },
    {
      "cell_type": "code",
      "source": [
        "num1=float(input(\"enter first num\"))\n",
        "num2=float(input(\"enter second num\"))\n",
        "\n",
        "print(\"Enter which operation to perform\")\n",
        "ch=input(\"enter the sepcific operations +,-,*,/ :\")\n",
        "\n",
        "result=0\n",
        "if ch== '+':\n",
        "  result = num1+num2\n",
        "elif ch == '-':\n",
        "  result = num1-num2  \n",
        "elif ch == '*':\n",
        "  result = num1*num2    \n",
        "elif ch == '/':\n",
        "  result = num1/num2    \n",
        "else:\n",
        "  print(\"invalid input\")\n",
        "\n",
        "print(num1, ch, num2, ':', result)    \n"
      ],
      "metadata": {
        "colab": {
          "base_uri": "https://localhost:8080/"
        },
        "id": "alcDslXlxKVy",
        "outputId": "4c11160c-f761-46d0-e3dd-837a16a4802d"
      },
      "execution_count": 31,
      "outputs": [
        {
          "output_type": "stream",
          "name": "stdout",
          "text": [
            "enter first num7\n",
            "enter second num5\n",
            "Enter which operation to perform\n",
            "enter the sepcific operations +,-,*,/ :*\n",
            "7.0 * 5.0 : 35.0\n"
          ]
        }
      ]
    },
    {
      "cell_type": "markdown",
      "source": [
        "Q 8 print 1 33  555  6666 77777\n"
      ],
      "metadata": {
        "id": "ByLa8XWD0bUg"
      }
    },
    {
      "cell_type": "code",
      "source": [
        "a='13567'\n",
        "for i in range(0,len(a)):\n",
        "  print(a[i]*(i+1))"
      ],
      "metadata": {
        "colab": {
          "base_uri": "https://localhost:8080/"
        },
        "id": "Yl2hELyO0cRq",
        "outputId": "38a9b861-2b17-4b6a-e1ab-e86effbb2d25"
      },
      "execution_count": 32,
      "outputs": [
        {
          "output_type": "stream",
          "name": "stdout",
          "text": [
            "1\n",
            "33\n",
            "555\n",
            "6666\n",
            "77777\n"
          ]
        }
      ]
    },
    {
      "cell_type": "markdown",
      "source": [
        "Q6 Read file and count numbers of digits alphabets and symols"
      ],
      "metadata": {
        "id": "RBQe_md-1CW4"
      }
    },
    {
      "cell_type": "markdown",
      "source": [
        "Q 3"
      ],
      "metadata": {
        "id": "fnkgaz5R4RIv"
      }
    },
    {
      "cell_type": "code",
      "source": [
        "for i in range (1,6):\n",
        "  for j in range (i,i+i):\n",
        "    print(j%2,end=\" \")\n",
        "  print()  "
      ],
      "metadata": {
        "colab": {
          "base_uri": "https://localhost:8080/"
        },
        "id": "fuSe8m_j4SD1",
        "outputId": "e92b74e2-5eaf-4fa9-ca28-6a1495c17d3b"
      },
      "execution_count": 33,
      "outputs": [
        {
          "output_type": "stream",
          "name": "stdout",
          "text": [
            "1 \n",
            "0 1 \n",
            "1 0 1 \n",
            "0 1 0 1 \n",
            "1 0 1 0 1 \n"
          ]
        }
      ]
    },
    {
      "cell_type": "code",
      "source": [
        ""
      ],
      "metadata": {
        "id": "gKipgcXw4UjH"
      },
      "execution_count": null,
      "outputs": []
    }
  ]
}